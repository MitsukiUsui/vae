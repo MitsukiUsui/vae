{
 "cells": [
  {
   "cell_type": "code",
   "execution_count": 1,
   "metadata": {
    "collapsed": true,
    "deletable": true,
    "editable": true
   },
   "outputs": [],
   "source": [
    "import numpy as np\n",
    "import tensorflow as tf\n",
    "import matplotlib.pyplot as plt\n",
    "%matplotlib inline"
   ]
  },
  {
   "cell_type": "code",
   "execution_count": 2,
   "metadata": {
    "collapsed": true,
    "deletable": true,
    "editable": true
   },
   "outputs": [],
   "source": [
    "np.random.seed(0)\n",
    "tf.set_random_seed(0)"
   ]
  },
  {
   "cell_type": "code",
   "execution_count": 3,
   "metadata": {
    "collapsed": false,
    "deletable": true,
    "editable": true
   },
   "outputs": [
    {
     "name": "stdout",
     "output_type": "stream",
     "text": [
      "Extracting MNIST_data/train-images-idx3-ubyte.gz\n",
      "Extracting MNIST_data/train-labels-idx1-ubyte.gz\n",
      "Extracting MNIST_data/t10k-images-idx3-ubyte.gz\n",
      "Extracting MNIST_data/t10k-labels-idx1-ubyte.gz\n"
     ]
    }
   ],
   "source": [
    "import input_data\n",
    "mnist=input_data.read_data_sets('MNIST_data',one_hot=True)\n",
    "n_samples=mnist.train.num_examples"
   ]
  },
  {
   "cell_type": "code",
   "execution_count": 4,
   "metadata": {
    "collapsed": false,
    "deletable": true,
    "editable": true
   },
   "outputs": [
    {
     "data": {
      "text/plain": [
       "5000"
      ]
     },
     "execution_count": 4,
     "metadata": {},
     "output_type": "execute_result"
    }
   ],
   "source": [
    "mnist.validation.num_examples"
   ]
  },
  {
   "cell_type": "code",
   "execution_count": 5,
   "metadata": {
    "collapsed": false,
    "deletable": true,
    "editable": true
   },
   "outputs": [],
   "source": [
    "def xavier_init(fan_in, fan_out, constant=1):\n",
    "    low=-constant*np.sqrt(6.0/(fan_in+fan_out))\n",
    "    high=constant*np.sqrt(6.0/(fan_in+fan_out))\n",
    "    return tf.random_uniform((fan_in, fan_out),\n",
    "                                                    minval=low, maxval=high,\n",
    "                                                    dtype=tf.float32)"
   ]
  },
  {
   "cell_type": "code",
   "execution_count": 6,
   "metadata": {
    "collapsed": false,
    "deletable": true,
    "editable": true
   },
   "outputs": [],
   "source": [
    "class VariationalAutoencoder(object):\n",
    "    def __init__(self, network_architecture, transfer_fct=tf.nn.softplus, \n",
    "                            learning_rate=0.001, batch_size=100):\n",
    "        self.network_architecture=network_architecture\n",
    "        self.transfer_fct=transfer_fct\n",
    "        self.learning_rate=learning_rate\n",
    "        self.batch_size=batch_size\n",
    "        \n",
    "        self.x=tf.placeholder(tf.float32, [None, network_architecture[\"n_input\"]])\n",
    "        self._create_network()\n",
    "        self._create_loss_optimizer()\n",
    "        init=tf.global_variables_initializer()\n",
    "        self.sess=tf.InteractiveSession()\n",
    "        self.sess.run(init)\n",
    "        \n",
    "    def _create_network(self):\n",
    "        network_weights=self._initialize_weights(**self.network_architecture)\n",
    "        self.z_mean, self.z_log_sigma_sq=\\\n",
    "            self._recognition_network(network_weights[\"weights_recog\"], network_weights[\"biases_recog\"])\n",
    "        n_z=self.network_architecture[\"n_z\"]\n",
    "        eps=tf.random_normal((self.batch_size, n_z), 0, 1,\n",
    "                                                    dtype=tf.float32)\n",
    "        self.z=tf.add(self.z_mean,\n",
    "                                tf.multiply(tf.sqrt(tf.exp(self.z_log_sigma_sq)), eps))#mul to multiply\n",
    "        self.x_reconstr_mean=\\\n",
    "            self._generator_network(network_weights[\"weights_gener\"],\n",
    "                                                           network_weights[\"biases_gener\"])\n",
    "            \n",
    "    def _initialize_weights(self, n_hidden_recog_1, n_hidden_recog_2,\n",
    "                                               n_hidden_gener_1, n_hidden_gener_2,\n",
    "                                               n_input, n_z):\n",
    "        all_weights=dict()\n",
    "        all_weights[\"weights_recog\"]={\n",
    "            \"h1\": tf.Variable(xavier_init(n_input, n_hidden_recog_1)),\n",
    "            \"h2\": tf.Variable(xavier_init(n_hidden_recog_1, n_hidden_recog_2)),\n",
    "            \"out_mean\":tf.Variable(xavier_init(n_hidden_recog_2, n_z)),\n",
    "            \"out_log_sigma\":tf.Variable(xavier_init(n_hidden_recog_2,n_z))       \n",
    "        }\n",
    "        all_weights[\"biases_recog\"]={\n",
    "            \"b1\":tf.Variable(tf.zeros([n_hidden_recog_1],dtype=tf.float32)),\n",
    "            \"b2\":tf.Variable(tf.zeros([n_hidden_recog_2],dtype=tf.float32)),\n",
    "            \"out_mean\":tf.Variable(tf.zeros([n_z],dtype=tf.float32)),\n",
    "            \"out_log_sigma\":tf.Variable(tf.zeros([n_z], dtype=tf.float32))\n",
    "        }\n",
    "        \n",
    "        all_weights[\"weights_gener\"]={\n",
    "            \"h1\":tf.Variable(xavier_init(n_z, n_hidden_gener_1)),\n",
    "            \"h2\":tf.Variable(xavier_init(n_hidden_gener_1, n_hidden_gener_2)),\n",
    "            \"out_mean\":tf.Variable(xavier_init(n_hidden_gener_2, n_input)),\n",
    "            #\"out_log_sigma\":tf.Variable(xavier_init(n_hidden_gener_2, n_input))\n",
    "        }\n",
    "        all_weights[\"biases_gener\"]={\n",
    "            \"b1\":tf.Variable(tf.zeros([n_hidden_gener_1], dtype=tf.float32)),\n",
    "            \"b2\":tf.Variable(tf.zeros([n_hidden_gener_2],dtype=tf.float32)),\n",
    "            \"out_mean\":tf.Variable(tf.zeros([n_input],dtype=tf.float32)),\n",
    "            #\"out_log_sigma\":tf.Variable(tf.zeros([n_input],dtype=tf.float32))\n",
    "        }\n",
    "        \n",
    "        return all_weights\n",
    "    \n",
    "    def _recognition_network(self,weights, biases):\n",
    "        layer_1=self.transfer_fct(tf.add(tf.matmul(self.x, weights[\"h1\"]), biases[\"b1\"]))\n",
    "        layer_2=self.transfer_fct(tf.add(tf.matmul(layer_1, weights[\"h2\"]), biases[\"b2\"]))\n",
    "        z_mean=tf.add(tf.matmul(layer_2, weights[\"out_mean\"]), biases[\"out_mean\"])\n",
    "        z_log_sigma_sq=tf.add(tf.matmul(layer_2, weights[\"out_log_sigma\"]), biases[\"out_log_sigma\"])\n",
    "        return (z_mean, z_log_sigma_sq)\n",
    "\n",
    "    def _generator_network(self, weights, biases):\n",
    "        layer_1=self.transfer_fct(tf.add(tf.matmul(self.z, weights[\"h1\"]), biases[\"b1\"]))\n",
    "        layer_2=self.transfer_fct(tf.add(tf.matmul(layer_1,weights[\"h2\"]),biases[\"b2\"]))\n",
    "        x_reconstr_mean=tf.nn.sigmoid(tf.add(tf.matmul(layer_2, weights[\"out_mean\"]), biases[\"out_mean\"]))\n",
    "        return x_reconstr_mean\n",
    "    \n",
    "    def _create_loss_optimizer(self):\n",
    "        reconstr_loss=-tf.reduce_sum(self.x*tf.log(1e-10+self.x_reconstr_mean)+(1-self.x)*tf.log(1e-10+1-self.x_reconstr_mean),1)\n",
    "        latent_loss=-0.5*tf.reduce_sum(1+self.z_log_sigma_sq-tf.square(self.z_mean)-tf.exp(self.z_log_sigma_sq),1)\n",
    "        self.cost=tf.reduce_mean(reconstr_loss+latent_loss)\n",
    "        self.optimizer=tf.train.AdamOptimizer(learning_rate=self.learning_rate).minimize(self.cost)\n",
    "        \n",
    "    def  partial_fit(self, X):\n",
    "        opt,cost=self.sess.run((self.optimizer, self.cost), feed_dict={self.x: X})\n",
    "        return cost\n",
    "    \n",
    "    def transform(self, X):\n",
    "        return self.sess.run(self.z_mean, feed_dict={self.x:X})\n",
    "    \n",
    "    def generate(self, z_mu=None):\n",
    "        if z_mu is None:\n",
    "            z_mu=np.random.normal(size=self.network_architecture[\"n_z\"])\n",
    "            return self.sess.run(self.x_reconstr_mean,feed_dict={self.z:z_mu})\n",
    "        \n",
    "    def reconstruct(self, X):\n",
    "        return self.sess.run(self.x_reconstr_mean, feed_dict={self.x: X})"
   ]
  },
  {
   "cell_type": "code",
   "execution_count": 7,
   "metadata": {
    "collapsed": false,
    "deletable": true,
    "editable": true
   },
   "outputs": [],
   "source": [
    "def train(network_architecture, learning_rate=0.001, batch_size=100, training_epochs=10, display_step=5):\n",
    "    vae=VariationalAutoencoder(network_architecture, learning_rate=learning_rate, batch_size=batch_size)\n",
    "    \n",
    "    for epoch in range(training_epochs):\n",
    "        avg_cost=0.\n",
    "        total_batch=int(n_samples/batch_size)\n",
    "        for i in range(total_batch):\n",
    "            batch_xs, _ =mnist.train.next_batch(batch_size)\n",
    "            cost=vae.partial_fit(batch_xs)\n",
    "            avg_cost+=cost/n_samples*batch_size\n",
    "            \n",
    "        if epoch % display_step==0:\n",
    "            print(\"Epoch:\", \"%04d\"%(epoch+1),\n",
    "                     \"cost=\",\"{:.9f}\".format(avg_cost))\n",
    "            \n",
    "    return vae         "
   ]
  },
  {
   "cell_type": "code",
   "execution_count": 8,
   "metadata": {
    "collapsed": false,
    "deletable": true,
    "editable": true
   },
   "outputs": [
    {
     "name": "stdout",
     "output_type": "stream",
     "text": [
      "Epoch: 0001 cost= 174.678878673\n",
      "Epoch: 0006 cost= 108.714620278\n",
      "Epoch: 0011 cost= 103.560559373\n",
      "Epoch: 0016 cost= 101.136302310\n",
      "Epoch: 0021 cost= 99.588368558\n",
      "Epoch: 0026 cost= 98.515359344\n",
      "Epoch: 0031 cost= 97.750770402\n",
      "Epoch: 0036 cost= 97.064341888\n",
      "Epoch: 0041 cost= 96.590453699\n",
      "Epoch: 0046 cost= 96.198475009\n",
      "Epoch: 0051 cost= 95.800051297\n",
      "Epoch: 0056 cost= 95.439631861\n",
      "Epoch: 0061 cost= 95.155129616\n",
      "Epoch: 0066 cost= 94.864634344\n",
      "Epoch: 0071 cost= 94.598342257\n"
     ]
    }
   ],
   "source": [
    "network_architecture=\\\n",
    "    dict(n_hidden_recog_1=500,\n",
    "            n_hidden_recog_2=500,\n",
    "            n_hidden_gener_1=500,\n",
    "            n_hidden_gener_2=500,\n",
    "            n_input=784,\n",
    "            n_z=20)\n",
    "    \n",
    "vae=train(network_architecture, training_epochs=75)"
   ]
  },
  {
   "cell_type": "code",
   "execution_count": 9,
   "metadata": {
    "collapsed": false,
    "deletable": true,
    "editable": true
   },
   "outputs": [
    {
     "data": {
      "image/png": "[encoded data removed]",
      "text/plain": [
       "<matplotlib.figure.Figure at 0x7ff4e5e2c4e0>"
      ]
     },
     "metadata": {},
     "output_type": "display_data"
    }
   ],
   "source": [
    "x_sample=mnist.test.next_batch(100)[0]\n",
    "x_reconstruct=vae.reconstruct(x_sample)\n",
    "\n",
    "plt.figure(figsize=(8,12))\n",
    "for i in range(5):\n",
    "    plt.subplot(5,2,2*i+1)\n",
    "    plt.imshow(x_sample[i].reshape(28,28), vmin=0, vmax=1, cmap=\"gray\")\n",
    "    plt.title(\"Test input\")\n",
    "    plt.colorbar()\n",
    "    plt.subplot(5,2,2*i+2)\n",
    "    plt.imshow(x_reconstruct[i].reshape(28,28),vmin=0,vmax=1,cmap=\"gray\")\n",
    "    plt.title(\"Reconstruction\")\n",
    "    plt.colorbar()\n",
    "plt.tight_layout()"
   ]
  },
  {
   "cell_type": "code",
   "execution_count": 10,
   "metadata": {
    "collapsed": false,
    "deletable": true,
    "editable": true
   },
   "outputs": [
    {
     "name": "stdout",
     "output_type": "stream",
     "text": [
      "Epoch: 0001 cost= 190.964296875\n",
      "Epoch: 0006 cost= 153.596175371\n",
      "Epoch: 0011 cost= 148.406473028\n",
      "Epoch: 0016 cost= 145.892791804\n",
      "Epoch: 0021 cost= 144.297089761\n",
      "Epoch: 0026 cost= nan\n",
      "Epoch: 0031 cost= nan\n",
      "Epoch: 0036 cost= nan\n",
      "Epoch: 0041 cost= nan\n"
     ]
    },
    {
     "ename": "KeyboardInterrupt",
     "evalue": "",
     "output_type": "error",
     "traceback": [
      "\u001b[0;31m---------------------------------------------------------------------------\u001b[0m",
      "\u001b[0;31mKeyboardInterrupt\u001b[0m                         Traceback (most recent call last)",
      "\u001b[0;32m<ipython-input-10-d499c1da6e45>\u001b[0m in \u001b[0;36m<module>\u001b[0;34m()\u001b[0m\n\u001b[1;32m      5\u001b[0m             \u001b[0mn_input\u001b[0m\u001b[0;34m=\u001b[0m\u001b[0;36m784\u001b[0m\u001b[0;34m,\u001b[0m\u001b[0;34m\u001b[0m\u001b[0m\n\u001b[1;32m      6\u001b[0m             n_z=2)\n\u001b[0;32m----> 7\u001b[0;31m \u001b[0mvae_2d\u001b[0m\u001b[0;34m=\u001b[0m\u001b[0mtrain\u001b[0m\u001b[0;34m(\u001b[0m\u001b[0mnetwork_architecture\u001b[0m\u001b[0;34m,\u001b[0m\u001b[0mtraining_epochs\u001b[0m\u001b[0;34m=\u001b[0m\u001b[0;36m75\u001b[0m\u001b[0;34m)\u001b[0m\u001b[0;34m\u001b[0m\u001b[0m\n\u001b[0m",
      "\u001b[0;32m<ipython-input-7-9206f95602be>\u001b[0m in \u001b[0;36mtrain\u001b[0;34m(network_architecture, learning_rate, batch_size, training_epochs, display_step)\u001b[0m\n\u001b[1;32m      7\u001b[0m         \u001b[0;32mfor\u001b[0m \u001b[0mi\u001b[0m \u001b[0;32min\u001b[0m \u001b[0mrange\u001b[0m\u001b[0;34m(\u001b[0m\u001b[0mtotal_batch\u001b[0m\u001b[0;34m)\u001b[0m\u001b[0;34m:\u001b[0m\u001b[0;34m\u001b[0m\u001b[0m\n\u001b[1;32m      8\u001b[0m             \u001b[0mbatch_xs\u001b[0m\u001b[0;34m,\u001b[0m \u001b[0m_\u001b[0m \u001b[0;34m=\u001b[0m\u001b[0mmnist\u001b[0m\u001b[0;34m.\u001b[0m\u001b[0mtrain\u001b[0m\u001b[0;34m.\u001b[0m\u001b[0mnext_batch\u001b[0m\u001b[0;34m(\u001b[0m\u001b[0mbatch_size\u001b[0m\u001b[0;34m)\u001b[0m\u001b[0;34m\u001b[0m\u001b[0m\n\u001b[0;32m----> 9\u001b[0;31m             \u001b[0mcost\u001b[0m\u001b[0;34m=\u001b[0m\u001b[0mvae\u001b[0m\u001b[0;34m.\u001b[0m\u001b[0mpartial_fit\u001b[0m\u001b[0;34m(\u001b[0m\u001b[0mbatch_xs\u001b[0m\u001b[0;34m)\u001b[0m\u001b[0;34m\u001b[0m\u001b[0m\n\u001b[0m\u001b[1;32m     10\u001b[0m             \u001b[0mavg_cost\u001b[0m\u001b[0;34m+=\u001b[0m\u001b[0mcost\u001b[0m\u001b[0;34m/\u001b[0m\u001b[0mn_samples\u001b[0m\u001b[0;34m*\u001b[0m\u001b[0mbatch_size\u001b[0m\u001b[0;34m\u001b[0m\u001b[0m\n\u001b[1;32m     11\u001b[0m \u001b[0;34m\u001b[0m\u001b[0m\n",
      "\u001b[0;32m<ipython-input-6-9b01d8b58891>\u001b[0m in \u001b[0;36mpartial_fit\u001b[0;34m(self, X)\u001b[0m\n\u001b[1;32m     77\u001b[0m \u001b[0;34m\u001b[0m\u001b[0m\n\u001b[1;32m     78\u001b[0m     \u001b[0;32mdef\u001b[0m  \u001b[0mpartial_fit\u001b[0m\u001b[0;34m(\u001b[0m\u001b[0mself\u001b[0m\u001b[0;34m,\u001b[0m \u001b[0mX\u001b[0m\u001b[0;34m)\u001b[0m\u001b[0;34m:\u001b[0m\u001b[0;34m\u001b[0m\u001b[0m\n\u001b[0;32m---> 79\u001b[0;31m         \u001b[0mopt\u001b[0m\u001b[0;34m,\u001b[0m\u001b[0mcost\u001b[0m\u001b[0;34m=\u001b[0m\u001b[0mself\u001b[0m\u001b[0;34m.\u001b[0m\u001b[0msess\u001b[0m\u001b[0;34m.\u001b[0m\u001b[0mrun\u001b[0m\u001b[0;34m(\u001b[0m\u001b[0;34m(\u001b[0m\u001b[0mself\u001b[0m\u001b[0;34m.\u001b[0m\u001b[0moptimizer\u001b[0m\u001b[0;34m,\u001b[0m \u001b[0mself\u001b[0m\u001b[0;34m.\u001b[0m\u001b[0mcost\u001b[0m\u001b[0;34m)\u001b[0m\u001b[0;34m,\u001b[0m \u001b[0mfeed_dict\u001b[0m\u001b[0;34m=\u001b[0m\u001b[0;34m{\u001b[0m\u001b[0mself\u001b[0m\u001b[0;34m.\u001b[0m\u001b[0mx\u001b[0m\u001b[0;34m:\u001b[0m \u001b[0mX\u001b[0m\u001b[0;34m}\u001b[0m\u001b[0;34m)\u001b[0m\u001b[0;34m\u001b[0m\u001b[0m\n\u001b[0m\u001b[1;32m     80\u001b[0m         \u001b[0;32mreturn\u001b[0m \u001b[0mcost\u001b[0m\u001b[0;34m\u001b[0m\u001b[0m\n\u001b[1;32m     81\u001b[0m \u001b[0;34m\u001b[0m\u001b[0m\n",
      "\u001b[0;32m/usr/local/lib/python3.4/dist-packages/tensorflow/python/client/session.py\u001b[0m in \u001b[0;36mrun\u001b[0;34m(self, fetches, feed_dict, options, run_metadata)\u001b[0m\n\u001b[1;32m    776\u001b[0m     \u001b[0;32mtry\u001b[0m\u001b[0;34m:\u001b[0m\u001b[0;34m\u001b[0m\u001b[0m\n\u001b[1;32m    777\u001b[0m       result = self._run(None, fetches, feed_dict, options_ptr,\n\u001b[0;32m--> 778\u001b[0;31m                          run_metadata_ptr)\n\u001b[0m\u001b[1;32m    779\u001b[0m       \u001b[0;32mif\u001b[0m \u001b[0mrun_metadata\u001b[0m\u001b[0;34m:\u001b[0m\u001b[0;34m\u001b[0m\u001b[0m\n\u001b[1;32m    780\u001b[0m         \u001b[0mproto_data\u001b[0m \u001b[0;34m=\u001b[0m \u001b[0mtf_session\u001b[0m\u001b[0;34m.\u001b[0m\u001b[0mTF_GetBuffer\u001b[0m\u001b[0;34m(\u001b[0m\u001b[0mrun_metadata_ptr\u001b[0m\u001b[0;34m)\u001b[0m\u001b[0;34m\u001b[0m\u001b[0m\n",
      "\u001b[0;32m/usr/local/lib/python3.4/dist-packages/tensorflow/python/client/session.py\u001b[0m in \u001b[0;36m_run\u001b[0;34m(self, handle, fetches, feed_dict, options, run_metadata)\u001b[0m\n\u001b[1;32m    980\u001b[0m     \u001b[0;32mif\u001b[0m \u001b[0mfinal_fetches\u001b[0m \u001b[0;32mor\u001b[0m \u001b[0mfinal_targets\u001b[0m\u001b[0;34m:\u001b[0m\u001b[0;34m\u001b[0m\u001b[0m\n\u001b[1;32m    981\u001b[0m       results = self._do_run(handle, final_targets, final_fetches,\n\u001b[0;32m--> 982\u001b[0;31m                              feed_dict_string, options, run_metadata)\n\u001b[0m\u001b[1;32m    983\u001b[0m     \u001b[0;32melse\u001b[0m\u001b[0;34m:\u001b[0m\u001b[0;34m\u001b[0m\u001b[0m\n\u001b[1;32m    984\u001b[0m       \u001b[0mresults\u001b[0m \u001b[0;34m=\u001b[0m \u001b[0;34m[\u001b[0m\u001b[0;34m]\u001b[0m\u001b[0;34m\u001b[0m\u001b[0m\n",
      "\u001b[0;32m/usr/local/lib/python3.4/dist-packages/tensorflow/python/client/session.py\u001b[0m in \u001b[0;36m_do_run\u001b[0;34m(self, handle, target_list, fetch_list, feed_dict, options, run_metadata)\u001b[0m\n\u001b[1;32m   1030\u001b[0m     \u001b[0;32mif\u001b[0m \u001b[0mhandle\u001b[0m \u001b[0;32mis\u001b[0m \u001b[0;32mNone\u001b[0m\u001b[0;34m:\u001b[0m\u001b[0;34m\u001b[0m\u001b[0m\n\u001b[1;32m   1031\u001b[0m       return self._do_call(_run_fn, self._session, feed_dict, fetch_list,\n\u001b[0;32m-> 1032\u001b[0;31m                            target_list, options, run_metadata)\n\u001b[0m\u001b[1;32m   1033\u001b[0m     \u001b[0;32melse\u001b[0m\u001b[0;34m:\u001b[0m\u001b[0;34m\u001b[0m\u001b[0m\n\u001b[1;32m   1034\u001b[0m       return self._do_call(_prun_fn, self._session, handle, feed_dict,\n",
      "\u001b[0;32m/usr/local/lib/python3.4/dist-packages/tensorflow/python/client/session.py\u001b[0m in \u001b[0;36m_do_call\u001b[0;34m(self, fn, *args)\u001b[0m\n\u001b[1;32m   1037\u001b[0m   \u001b[0;32mdef\u001b[0m \u001b[0m_do_call\u001b[0m\u001b[0;34m(\u001b[0m\u001b[0mself\u001b[0m\u001b[0;34m,\u001b[0m \u001b[0mfn\u001b[0m\u001b[0;34m,\u001b[0m \u001b[0;34m*\u001b[0m\u001b[0margs\u001b[0m\u001b[0;34m)\u001b[0m\u001b[0;34m:\u001b[0m\u001b[0;34m\u001b[0m\u001b[0m\n\u001b[1;32m   1038\u001b[0m     \u001b[0;32mtry\u001b[0m\u001b[0;34m:\u001b[0m\u001b[0;34m\u001b[0m\u001b[0m\n\u001b[0;32m-> 1039\u001b[0;31m       \u001b[0;32mreturn\u001b[0m \u001b[0mfn\u001b[0m\u001b[0;34m(\u001b[0m\u001b[0;34m*\u001b[0m\u001b[0margs\u001b[0m\u001b[0;34m)\u001b[0m\u001b[0;34m\u001b[0m\u001b[0m\n\u001b[0m\u001b[1;32m   1040\u001b[0m     \u001b[0;32mexcept\u001b[0m \u001b[0merrors\u001b[0m\u001b[0;34m.\u001b[0m\u001b[0mOpError\u001b[0m \u001b[0;32mas\u001b[0m \u001b[0me\u001b[0m\u001b[0;34m:\u001b[0m\u001b[0;34m\u001b[0m\u001b[0m\n\u001b[1;32m   1041\u001b[0m       \u001b[0mmessage\u001b[0m \u001b[0;34m=\u001b[0m \u001b[0mcompat\u001b[0m\u001b[0;34m.\u001b[0m\u001b[0mas_text\u001b[0m\u001b[0;34m(\u001b[0m\u001b[0me\u001b[0m\u001b[0;34m.\u001b[0m\u001b[0mmessage\u001b[0m\u001b[0;34m)\u001b[0m\u001b[0;34m\u001b[0m\u001b[0m\n",
      "\u001b[0;32m/usr/local/lib/python3.4/dist-packages/tensorflow/python/client/session.py\u001b[0m in \u001b[0;36m_run_fn\u001b[0;34m(session, feed_dict, fetch_list, target_list, options, run_metadata)\u001b[0m\n\u001b[1;32m   1019\u001b[0m         return tf_session.TF_Run(session, options,\n\u001b[1;32m   1020\u001b[0m                                  \u001b[0mfeed_dict\u001b[0m\u001b[0;34m,\u001b[0m \u001b[0mfetch_list\u001b[0m\u001b[0;34m,\u001b[0m \u001b[0mtarget_list\u001b[0m\u001b[0;34m,\u001b[0m\u001b[0;34m\u001b[0m\u001b[0m\n\u001b[0;32m-> 1021\u001b[0;31m                                  status, run_metadata)\n\u001b[0m\u001b[1;32m   1022\u001b[0m \u001b[0;34m\u001b[0m\u001b[0m\n\u001b[1;32m   1023\u001b[0m     \u001b[0;32mdef\u001b[0m \u001b[0m_prun_fn\u001b[0m\u001b[0;34m(\u001b[0m\u001b[0msession\u001b[0m\u001b[0;34m,\u001b[0m \u001b[0mhandle\u001b[0m\u001b[0;34m,\u001b[0m \u001b[0mfeed_dict\u001b[0m\u001b[0;34m,\u001b[0m \u001b[0mfetch_list\u001b[0m\u001b[0;34m)\u001b[0m\u001b[0;34m:\u001b[0m\u001b[0;34m\u001b[0m\u001b[0m\n",
      "\u001b[0;31mKeyboardInterrupt\u001b[0m: "
     ]
    }
   ],
   "source": [
    "network_architecture=\\\n",
    "    dict(n_hidden_recog_1=500,\n",
    "            n_hidden_recog_2=500,\n",
    "            n_hidden_gener_1=500,\n",
    "            n_hidden_gener_2=500,\n",
    "            n_input=784,\n",
    "            n_z=2)\n",
    "vae_2d=train(network_architecture,training_epochs=75)"
   ]
  },
  {
   "cell_type": "code",
   "execution_count": null,
   "metadata": {
    "collapsed": false,
    "deletable": true,
    "editable": true
   },
   "outputs": [],
   "source": [
    "x_sample,y_sample=mnist.test.next_batch(5000)\n",
    "z_mu=vae_2d.transform(x_sample)\n",
    "plt.figure(figsize=(8,6))\n",
    "plt.scatter(z_mu[:,0],z_mu[:,1], c=np.argmax(y_sample,1))\n",
    "plt.colorbar()\n",
    "plt.grid()"
   ]
  },
  {
   "cell_type": "code",
   "execution_count": null,
   "metadata": {
    "collapsed": false,
    "deletable": true,
    "editable": true
   },
   "outputs": [],
   "source": [
    "nx=ny=20\n",
    "x_values=np.linspace(-3,3,nx)\n",
    "y_values=np.linspace(-3,3,ny)\n",
    "\n",
    "canvas=np.empty((28*ny,28*nx))\n",
    "for i, yi in enumerate(x_values):\n",
    "    for j,xi in enumerate(y_values):\n",
    "        z_mu=np.array([[xi,yi]]*vae.batch_size)\n",
    "        x_mean=vae_2d.generate(z_mu)\n",
    "        canvas[(nx-i-1)*28:(nx-i)*28, j*28:(j+1)*28]=x_mean[0].reshape(28,28)\n",
    "        \n",
    "plt.figure(figsize=(8,10))\n",
    "Xi, Yi=np.meshgrid(x_values,y_values)\n",
    "plt.imshow(canvas, origin=upper,cmap=\"gray\")\n",
    "plt.tight_layout()"
   ]
  },
  {
   "cell_type": "code",
   "execution_count": null,
   "metadata": {
    "collapsed": true,
    "deletable": true,
    "editable": true
   },
   "outputs": [],
   "source": []
  }
 ],
 "metadata": {
  "kernelspec": {
   "display_name": "Python 3",
   "language": "python",
   "name": "python3"
  },
  "language_info": {
   "codemirror_mode": {
    "name": "ipython",
    "version": 3
   },
   "file_extension": ".py",
   "mimetype": "text/x-python",
   "name": "python",
   "nbconvert_exporter": "python",
   "pygments_lexer": "ipython3",
   "version": "3.4.3"
  }
 },
 "nbformat": 4,
 "nbformat_minor": 2
}
